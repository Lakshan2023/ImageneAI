{
 "cells": [
  {
   "cell_type": "code",
   "execution_count": null,
   "id": "1c15f2fa-ee73-45d2-8c93-ec4ebfc7f1c8",
   "metadata": {},
   "outputs": [],
   "source": []
  }
 ],
 "metadata": {
  "kernelspec": {
   "display_name": "",
   "name": ""
  },
  "language_info": {
   "name": ""
  }
 },
 "nbformat": 4,
 "nbformat_minor": 5
}
